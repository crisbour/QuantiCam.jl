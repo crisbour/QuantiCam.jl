{
 "cells": [
  {
   "cell_type": "markdown",
   "metadata": {},
   "source": [
    "# Peak extraction coorelation to IRF\n",
    "\n",
    "Extract IRF from measurements or reference from literature. Cross correlate to histogram to extract peak value.\n",
    "\n",
    "- [ ] Transform IRF to TDC codes and timestamp value\n",
    "    - For now use the TDC precision clock measurement, i.e. 1.1V Vddro => 37ps TDC code quantization\n",
    "- [ ] Multiscale cross correlation to calibrate TDC clock\n"
   ]
  },
  {
   "cell_type": "code",
   "execution_count": null,
   "metadata": {
    "vscode": {
     "languageId": "plaintext"
    }
   },
   "outputs": [],
   "source": []
  }
 ],
 "metadata": {
  "language_info": {
   "name": "python"
  }
 },
 "nbformat": 4,
 "nbformat_minor": 2
}
